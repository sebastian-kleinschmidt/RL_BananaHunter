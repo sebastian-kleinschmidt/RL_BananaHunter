{
 "cells": [
  {
   "cell_type": "markdown",
   "metadata": {},
   "source": [
    "# Deep Reinforcement Learning Project: BananaHunter Notebook\n",
    "\n",
    "---\n",
    "\n",
    "This notebook shows how to use the Unity ML-Agents environment to train an agent to collect yellow bananas simultaneously avoiding blue bananas using Deep Reinforcement Learning.\n",
    "\n",
    "### 1. Start the Environment\n",
    "\n",
    "We begin by importing some necessary packages.  If the code cell below returns an error, please revisit *Prequisited and Installation* Section in the [README](https://github.com/sebastian-kleinschmidt/RL_BananaHunter/REAMDME.md)."
   ]
  },
  {
   "cell_type": "code",
   "execution_count": 1,
   "metadata": {},
   "outputs": [],
   "source": [
    "from unityagents import UnityEnvironment\n",
    "from agent import Agent\n",
    "import numpy as np\n",
    "from collections import deque\n",
    "import matplotlib.pyplot as plt\n",
    "import torch\n",
    "%matplotlib inline"
   ]
  },
  {
   "cell_type": "code",
   "execution_count": 2,
   "metadata": {},
   "outputs": [
    {
     "name": "stderr",
     "output_type": "stream",
     "text": [
      "INFO:unityagents:\n",
      "'Academy' started successfully!\n",
      "Unity Academy name: Academy\n",
      "        Number of Brains: 1\n",
      "        Number of External Brains : 1\n",
      "        Lesson number : 0\n",
      "        Reset Parameters :\n",
      "\t\t\n",
      "Unity brain name: BananaBrain\n",
      "        Number of Visual Observations (per agent): 0\n",
      "        Vector Observation space type: continuous\n",
      "        Vector Observation space size (per agent): 37\n",
      "        Number of stacked Vector Observation: 1\n",
      "        Vector Action space type: discrete\n",
      "        Vector Action space size (per agent): 4\n",
      "        Vector Action descriptions: , , , \n"
     ]
    }
   ],
   "source": [
    "env = UnityEnvironment(file_name=\"simulation/Banana.exe\")"
   ]
  },
  {
   "cell_type": "markdown",
   "metadata": {},
   "source": [
    "Environments contain **_brains_** which are responsible for deciding the actions of their associated agents. Here we check for the first brain available, and set it as the default brain we will be controlling from Python."
   ]
  },
  {
   "cell_type": "code",
   "execution_count": 3,
   "metadata": {},
   "outputs": [],
   "source": [
    "# get the default brain\n",
    "brain_name = env.brain_names[0]\n",
    "brain = env.brains[brain_name]"
   ]
  },
  {
   "cell_type": "markdown",
   "metadata": {},
   "source": [
    "### 2. Examine the State and Action Spaces\n",
    "\n",
    "The simulation contains a single agent that navigates a large environment.  At each time step, it has four actions at its disposal:\n",
    "- `0` - walk forward \n",
    "- `1` - walk backward\n",
    "- `2` - turn left\n",
    "- `3` - turn right\n",
    "\n",
    "The state space has `37` dimensions and contains the agent's velocity, along with ray-based perception of objects around agent's forward direction.  A reward of `+1` is provided for collecting a yellow banana, and a reward of `-1` is provided for collecting a blue banana. \n",
    "\n",
    "Run the code cell below to print some information about the environment."
   ]
  },
  {
   "cell_type": "code",
   "execution_count": 4,
   "metadata": {},
   "outputs": [
    {
     "name": "stdout",
     "output_type": "stream",
     "text": [
      "Number of agents: 1\n",
      "Number of actions: 4\n",
      "States look like: [1.         0.         0.         0.         0.84408134 0.\n",
      " 0.         1.         0.         0.0748472  0.         1.\n",
      " 0.         0.         0.25755    1.         0.         0.\n",
      " 0.         0.74177343 0.         1.         0.         0.\n",
      " 0.25854847 0.         0.         1.         0.         0.09355672\n",
      " 0.         1.         0.         0.         0.31969345 0.\n",
      " 0.        ]\n",
      "States have length: 37\n"
     ]
    }
   ],
   "source": [
    "# reset the environment\n",
    "env_info = env.reset(train_mode=True)[brain_name]\n",
    "\n",
    "# number of agents in the environment\n",
    "print('Number of agents:', len(env_info.agents))\n",
    "\n",
    "# number of actions\n",
    "action_size = brain.vector_action_space_size\n",
    "print('Number of actions:', action_size)\n",
    "\n",
    "# examine the state space \n",
    "state = env_info.vector_observations[0]\n",
    "print('States look like:', state)\n",
    "state_size = len(state)\n",
    "print('States have length:', state_size)"
   ]
  },
  {
   "cell_type": "markdown",
   "metadata": {},
   "source": [
    "### 3. Take Random Actions in the Environment\n",
    "\n",
    "In the next code cell, you will learn how to use the Python API to control the agent and receive feedback from the environment.\n",
    "\n",
    "Once this cell is executed, you will watch the agent's performance, if it selects an action (uniformly) at random with each time step.  A window should pop up that allows you to observe the agent, as it moves through the environment.  \n",
    "\n",
    "Of course, as part of the project, you'll have to change the code so that the agent is able to use its experience to gradually choose better actions when interacting with the environment!"
   ]
  },
  {
   "cell_type": "code",
   "execution_count": 5,
   "metadata": {},
   "outputs": [
    {
     "name": "stdout",
     "output_type": "stream",
     "text": [
      "Score: 1.0\n"
     ]
    }
   ],
   "source": [
    "env_info = env.reset(train_mode=False)[brain_name] # reset the environment\n",
    "state = env_info.vector_observations[0]            # get the current state\n",
    "score = 0                                          # initialize the score\n",
    "while True:\n",
    "    action = np.random.randint(action_size)        # select an action\n",
    "    env_info = env.step(action)[brain_name]        # send the action to the environment\n",
    "    next_state = env_info.vector_observations[0]   # get the next state\n",
    "    reward = env_info.rewards[0]                   # get the reward\n",
    "    done = env_info.local_done[0]                  # see if episode has finished\n",
    "    score += reward                                # update the score\n",
    "    state = next_state                             # roll over the state to next time step\n",
    "    if done:                                       # exit loop if episode finished\n",
    "        break\n",
    "    \n",
    "print(\"Score: {}\".format(score))"
   ]
  },
  {
   "cell_type": "markdown",
   "metadata": {},
   "source": [
    "### 4. Train an Agent from Scratch\n",
    "\n",
    "The following cells will reset the environment and initialize and train an agent to collect yellow bananas and avoid blue bananas."
   ]
  },
  {
   "cell_type": "code",
   "execution_count": 6,
   "metadata": {},
   "outputs": [],
   "source": [
    "env_info = env.reset(train_mode=True)[brain_name]\n",
    "agent = Agent(state_size=len(env_info.vector_observations[0]), action_size=brain.vector_action_space_size, seed=0)"
   ]
  },
  {
   "cell_type": "markdown",
   "metadata": {},
   "source": [
    "### 4.1 Learning Algorithm\n",
    "The learning algorithm uses Deep-Q-Learning. For a total of *n_episodes* the agents choses an *action* based on the current *state* and collects the *subsequent state/next_state* and the *reward* as result of his previous chosen action.\n",
    "\n",
    "With the state, action, reward and next_state information, the agent adds these information to the replay buffer using the step function, which is implemented in agent class defined in the agent.py. Each 4 steps (defined in the UPDATE_EVERY variable of the class), the agent starts learning, as long as we have enough data in our replay buffer available. We then uniformly sample from the replay buffer 64 tuples.\n",
    "\n",
    "Using the states of the sampled experiences form the replay buffer, a forward pass using the **target neural network** define in the model.py (see description in Section 4.3) for the *next_state* and the action, which would maximize the reward, is performed. Together with the discount rate gamma and the reward for the transition, we compute t_target. Together with the current predictions Q_expected, we can build up out cost function an optimize the network (element-wise mean squared error of Q_expected and Q_targets).\n",
    "\n",
    "If the mean score for the last 100 episodes is above the goal of 13, the current model is saved. It would also be possible to stop the training here, but for visualize how good the model can perform with the maximum number of episodes (determinde by n_episodes), the training continues after reaching the goal."
   ]
  },
  {
   "cell_type": "code",
   "execution_count": 7,
   "metadata": {},
   "outputs": [],
   "source": [
    "def dqn(n_episodes=2000, max_t=9999, eps_start=1.0, eps_end=0.01, eps_decay=0.995):\n",
    "    \"\"\"Deep Q-Learning.\n",
    "    \n",
    "    Params\n",
    "    ======\n",
    "        n_episodes (int): maximum number of training episodes\n",
    "        max_t (int): maximum number of timesteps per episode\n",
    "        eps_start (float): starting value of epsilon, for epsilon-greedy action selection\n",
    "        eps_end (float): minimum value of epsilon\n",
    "        eps_decay (float): multiplicative factor (per episode) for decreasing epsilon\n",
    "    \"\"\"\n",
    "    prev_best_score_window = 0\n",
    "    best_score_window = 0\n",
    "    \n",
    "    scores = []                        # list containing scores from each episode\n",
    "    average_score = []                 # List for average score of 100 episodes\n",
    "    scores_window = deque(maxlen=100)  # last 100 scores\n",
    "    eps = eps_start                    # initialize epsilon\n",
    "    for i_episode in range(1, n_episodes+1):\n",
    "        state = env.reset(train_mode=True)[brain_name].vector_observations[0]\n",
    "        score = 0\n",
    "        for t in range(max_t):\n",
    "            action = agent.act(state, eps)\n",
    "            env_info = env.step(action.astype(int))[brain_name]\n",
    "            next_state = env_info.vector_observations[0]\n",
    "            reward = env_info.rewards[0]\n",
    "            done = env_info.local_done[0]\n",
    "            agent.step(state, action, reward, next_state, done)\n",
    "            state = next_state\n",
    "            score += reward\n",
    "            if done:\n",
    "                break \n",
    "        scores_window.append(score)       # save most recent score\n",
    "        scores.append(score)              # save most recent score\n",
    "        average_score.append(np.mean(scores_window))\n",
    "        eps = max(eps_end, eps_decay*eps) # decrease epsilon\n",
    "        print('\\rEpisode {}\\tAverage Score: {:.2f}'.format(i_episode, np.mean(scores_window)), end=\"\")\n",
    "        if i_episode % 100 == 0:\n",
    "            if prev_best_score_window!=best_score_window:\n",
    "                prev_best_score_window=best_score_window\n",
    "                print('\\rEpisode {}\\tAverage Score: {:.2f} - Better Solution found!'.format(i_episode, best_score_window))\n",
    "            else:\n",
    "                print('\\rEpisode {}\\tAverage Score: {:.2f}'.format(i_episode, np.mean(scores_window)))\n",
    "        if np.mean(scores_window)>=13.0 and np.mean(scores_window)>best_score_window:\n",
    "            if best_score_window==0:\n",
    "                print('\\nEnvironment solved the first time in {:d} episodes!\\tAverage Score: {:.2f}'.format(i_episode-100, np.mean(scores_window)))\n",
    "            best_score_window = np.mean(scores_window)\n",
    "            torch.save(agent.qnetwork_local.state_dict(), 'checkpoint.pth')\n",
    "    return scores, average_score"
   ]
  },
  {
   "cell_type": "markdown",
   "metadata": {},
   "source": [
    "### 4.2 Hyperparameters"
   ]
  },
  {
   "cell_type": "code",
   "execution_count": 8,
   "metadata": {},
   "outputs": [
    {
     "name": "stdout",
     "output_type": "stream",
     "text": [
      "Episode 100\tAverage Score: 1.06\n",
      "Episode 200\tAverage Score: 4.29\n",
      "Episode 300\tAverage Score: 7.79\n",
      "Episode 400\tAverage Score: 10.45\n",
      "Episode 500\tAverage Score: 12.13\n",
      "Episode 533\tAverage Score: 13.01\n",
      "Environment solved the first time in 433 episodes!\tAverage Score: 13.01\n",
      "Episode 600\tAverage Score: 13.82 - Better Solution found!\n",
      "Episode 700\tAverage Score: 15.43 - Better Solution found!\n",
      "Episode 800\tAverage Score: 15.58 - Better Solution found!\n",
      "Episode 900\tAverage Score: 16.31 - Better Solution found!\n",
      "Episode 1000\tAverage Score: 16.76 - Better Solution found!\n",
      "Episode 1100\tAverage Score: 15.92\n",
      "Episode 1200\tAverage Score: 16.11\n",
      "Episode 1300\tAverage Score: 15.97\n",
      "Episode 1400\tAverage Score: 15.58\n",
      "Episode 1500\tAverage Score: 17.08 - Better Solution found!\n",
      "Episode 1600\tAverage Score: 16.80\n",
      "Episode 1700\tAverage Score: 16.19\n",
      "Episode 1800\tAverage Score: 15.29\n",
      "Episode 1900\tAverage Score: 15.48\n",
      "Episode 2000\tAverage Score: 16.10\n"
     ]
    }
   ],
   "source": [
    "# Define Hyperparameters\n",
    "n_episodes=2000\n",
    "max_t=99999\n",
    "eps_start=1.0\n",
    "eps_end=0.01\n",
    "eps_decay=0.995\n",
    "\n",
    "# Start training\n",
    "scores, average_score = dqn(n_episodes, max_t, eps_start, eps_end, eps_decay)"
   ]
  },
  {
   "cell_type": "markdown",
   "metadata": {},
   "source": [
    "**Hyperparameter Definition:**\n",
    "- **n_episodes** - *maximum number of training episodes*<br> According to Section 4.3 *2000* is high enough to archieve the goal of the task but might be to high achieving no significant improvement in the second half after approx episode 600.\n",
    "- **max_t** -  *maximum number of timesteps per episode*<br>\n",
    "With a maximum number of timesteps per episode of 99999, each episode should run until it's end.\n",
    "- **eps_start** - *starting value of epsilon, for epsilon-greedy action selection*<br>\n",
    "Epsilon-greedy starts with a value of 1.0 for selecting random actions at first and concentrate on exploration.\n",
    "- **eps_end** - *minimum value of epsilon*<br>\n",
    "Epsilon-greedy starts with a value of 0.1 for using the trained and model (exploiting) and only little roomf or exploration.\n",
    "- **eps_decay** - *multiplicative factor (per episode) for decreasing epsilon*<br>\n",
    "The decay between both values i 0.995 per episode."
   ]
  },
  {
   "cell_type": "markdown",
   "metadata": {},
   "source": [
    "### 4.3 Model Architecture\n",
    "The architecture of the model is defined in the model.py file. The network is a three linear-layer network with an input size of 37 (according to the number of states), 64 hidden units in the second layer and an output dimension of 4 of the output layer (according to the number of actions). Rectified Linear Unit (ReLU) are used as activation functions for the first and second layer."
   ]
  },
  {
   "cell_type": "markdown",
   "metadata": {},
   "source": [
    "### 4.4 Plot of Rewards per Episode\n",
    "Subsequently you can see a plot of the score over the number of episodes:"
   ]
  },
  {
   "cell_type": "code",
   "execution_count": 9,
   "metadata": {},
   "outputs": [
    {
     "data": {
      "image/png": "[encoded data removed]",
      "text/plain": [
       "<Figure size 432x288 with 1 Axes>"
      ]
     },
     "metadata": {
      "needs_background": "light"
     },
     "output_type": "display_data"
    }
   ],
   "source": [
    "# plot the scores\n",
    "fig = plt.figure()\n",
    "ax = fig.add_subplot(111)\n",
    "plt.plot(np.arange(len(scores)), scores)\n",
    "plt.ylabel('Score')\n",
    "plt.xlabel('Episode #')\n",
    "plt.show()"
   ]
  },
  {
   "cell_type": "markdown",
   "metadata": {},
   "source": [
    "And in addition, the average score for the a 100 episodes window"
   ]
  },
  {
   "cell_type": "code",
   "execution_count": 10,
   "metadata": {},
   "outputs": [
    {
     "data": {
      "image/png": "[encoded data removed]",
      "text/plain": [
       "<Figure size 432x288 with 1 Axes>"
      ]
     },
     "metadata": {
      "needs_background": "light"
     },
     "output_type": "display_data"
    }
   ],
   "source": [
    "# plot the scores\n",
    "fig = plt.figure()\n",
    "ax = fig.add_subplot(111)\n",
    "plt.plot(np.arange(len(average_score)), average_score)\n",
    "plt.ylabel('Average Score (over an maximum of 100 episodes)')\n",
    "plt.xlabel('Episode #')\n",
    "plt.show()"
   ]
  },
  {
   "cell_type": "markdown",
   "metadata": {},
   "source": [
    "According to the printed output during training and visualization of the plot, **the network was able to solve the task (average reward (over 100 episodes) of at least +13) after episode 433**. From this point on, the model further improved until approx. episode xx. Therefore, a reduction of the hyperparameter *n_episodes* seems to be reasonable to episode 750."
   ]
  },
  {
   "cell_type": "markdown",
   "metadata": {},
   "source": [
    "### 4.5 Ideas for Future Work\n",
    "- **More sophisticated network architecture**\n",
    "The used network is a very shallow network. A deeper and more sophisticated network might perform better.\n",
    "- **Implement Double Q-Learning**\n",
    "Traditional Deep Q-Learning as used in this implementation tends to overestimates the action values. A possible extension would therefore to use Double Q-Learning.\n",
    "- **Priorized Experience Replay**\n",
    "The implementation samples experience transistions uniformly from the replay buffer. Important transitions can be sampled with higher probabilities using *Priorized Experience Replay* to learn more effectively.\n",
    "- **Dueling DQN**\n",
    "By replacing the tradition Deep-Q-Network with a dueling architecutre, the values of each state can be assessed without having to learn the effect of each action."
   ]
  },
  {
   "cell_type": "markdown",
   "metadata": {},
   "source": [
    "### 5. Demonstrate Trained Agent\n",
    "Now let's load the best performing model and let us see, how it performs."
   ]
  },
  {
   "cell_type": "code",
   "execution_count": 11,
   "metadata": {},
   "outputs": [
    {
     "name": "stdout",
     "output_type": "stream",
     "text": [
      "Score: 17.0\n"
     ]
    }
   ],
   "source": [
    "agent.qnetwork_local.load_state_dict(torch.load('checkpoint.pth'))\n",
    "\n",
    "env_info = env.reset(train_mode=False)[brain_name] # reset the environment\n",
    "state = env_info.vector_observations[0]            # get the current state\n",
    "score = 0                                          # initialize the score\n",
    "while True:\n",
    "    action = agent.act(state)        # select an action\n",
    "    env_info = env.step(action.astype(int))[brain_name]        # send the action to the environment\n",
    "    next_state = env_info.vector_observations[0]   # get the next state\n",
    "    reward = env_info.rewards[0]                   # get the reward\n",
    "    done = env_info.local_done[0]                  # see if episode has finished\n",
    "    score += reward                                # update the score\n",
    "    state = next_state                             # roll over the state to next time step\n",
    "    if done:                                       # exit loop if episode finished\n",
    "        break\n",
    "    \n",
    "print(\"Score: {}\".format(score))"
   ]
  },
  {
   "cell_type": "markdown",
   "metadata": {},
   "source": [
    "### 6. Shutdown Environment\n",
    "Last thing to do is to shut down the environment"
   ]
  },
  {
   "cell_type": "code",
   "execution_count": 12,
   "metadata": {},
   "outputs": [],
   "source": [
    "env.close()"
   ]
  }
 ],
 "metadata": {
  "kernelspec": {
   "display_name": "drlnd",
   "language": "python",
   "name": "drlnd"
  },
  "language_info": {
   "codemirror_mode": {
    "name": "ipython",
    "version": 3
   },
   "file_extension": ".py",
   "mimetype": "text/x-python",
   "name": "python",
   "nbconvert_exporter": "python",
   "pygments_lexer": "ipython3",
   "version": "3.6.13"
  }
 },
 "nbformat": 4,
 "nbformat_minor": 2
}
